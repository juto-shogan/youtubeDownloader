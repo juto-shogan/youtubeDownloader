{
 "cells": [
  {
   "cell_type": "code",
   "execution_count": 1,
   "metadata": {},
   "outputs": [],
   "source": [
    "import tkinter as tk\n",
    "\n",
    "class MyApplication(tk.Tk):\n",
    "    def __init__(self):\n",
    "        super().__init__()\n",
    "        self.title(\"My Application\")\n",
    "\n",
    "        # Create frames for each page\n",
    "        self.page1 = tk.Frame(self)\n",
    "        self.page2 = tk.Frame(self)\n",
    "\n",
    "        # Place initial page\n",
    "        self.page1.pack()\n",
    "\n",
    "        # Create widgets for each page\n",
    "        # ...\n",
    "\n",
    "    def show_page1(self):\n",
    "        self.page1.pack()\n",
    "        self.page2.pack_forget()\n",
    "\n",
    "    def show_page2(self):\n",
    "        self.page2.pack()\n",
    "        self.page1.pack_forget()\n",
    "\n",
    "# Create and run the application\n",
    "app = MyApplication()\n",
    "app.mainloop()"
   ]
  },
  {
   "cell_type": "code",
   "execution_count": null,
   "metadata": {},
   "outputs": [],
   "source": []
  }
 ],
 "metadata": {
  "kernelspec": {
   "display_name": ".venv",
   "language": "python",
   "name": "python3"
  },
  "language_info": {
   "codemirror_mode": {
    "name": "ipython",
    "version": 3
   },
   "file_extension": ".py",
   "mimetype": "text/x-python",
   "name": "python",
   "nbconvert_exporter": "python",
   "pygments_lexer": "ipython3",
   "version": "3.11.2"
  }
 },
 "nbformat": 4,
 "nbformat_minor": 2
}
