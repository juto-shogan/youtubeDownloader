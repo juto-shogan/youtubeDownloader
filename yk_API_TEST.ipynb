{
 "cells": [
  {
   "cell_type": "code",
   "execution_count": 2,
   "metadata": {},
   "outputs": [],
   "source": [
    "from pytube import YouTube\n",
    "import tkinter as tk"
   ]
  },
  {
   "cell_type": "code",
   "execution_count": 3,
   "metadata": {},
   "outputs": [
    {
     "data": {
      "text/plain": [
       "\"Entry in Serpent's Mouth ' 2k  😯 ! #godofwar #2k\""
      ]
     },
     "execution_count": 3,
     "metadata": {},
     "output_type": "execute_result"
    }
   ],
   "source": [
    "yt = YouTube('https://youtu.be/Z-EVXmXg038?si=k5TqII8P38v-6MOF')\n",
    "\n",
    "yt.title"
   ]
  },
  {
   "cell_type": "code",
   "execution_count": 4,
   "metadata": {},
   "outputs": [],
   "source": [
    "def Download(link):\n",
    "    yt = YouTube(link)\n",
    "    yt = yt.streams.get_highest_resolution()\n",
    "    try:\n",
    "        yt.title\n",
    "        yt.download()\n",
    "        \n",
    "    except:\n",
    "        print(\"An error has occurred\")\n",
    "    print(\"Download is completed successfully\")\n",
    "\n",
    "\n",
    "link = input(\"Enter the YouTube video URL: \")\n",
    "Download(link)"
   ]
  },
  {
   "cell_type": "code",
   "execution_count": null,
   "metadata": {},
   "outputs": [],
   "source": [
    "import tkinter as tk\n",
    "\n",
    "def on_button_click():\n",
    "    top = tk.Toplevel()\n",
    "    top.title(\"Pop-out Window\")\n",
    "    button = tk.Button(top, text=\"Pop-out Button\")\n",
    "    button.pack()\n",
    "\n",
    "    # Position the Toplevel window next to the main window\n",
    "    top.geometry(\"+%d+%d\" % (root.winfo_x() + root.winfo_width(), root.winfo_y()))\n",
    "\n",
    "root = tk.Tk()\n",
    "button = tk.Button(root, text=\"Main Button\", command=on_button_click)\n",
    "button.pack()\n",
    "\n",
    "root.mainloop()"
   ]
  },
  {
   "cell_type": "code",
   "execution_count": null,
   "metadata": {},
   "outputs": [],
   "source": []
  }
 ],
 "metadata": {
  "kernelspec": {
   "display_name": ".venv",
   "language": "python",
   "name": "python3"
  },
  "language_info": {
   "codemirror_mode": {
    "name": "ipython",
    "version": 3
   },
   "file_extension": ".py",
   "mimetype": "text/x-python",
   "name": "python",
   "nbconvert_exporter": "python",
   "pygments_lexer": "ipython3",
   "version": "3.11.2"
  }
 },
 "nbformat": 4,
 "nbformat_minor": 2
}
